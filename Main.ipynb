{
 "cells": [
  {
   "cell_type": "code",
   "execution_count": 10,
   "metadata": {},
   "outputs": [],
   "source": [
    "import cv2\n",
    "import os\n",
    "import numpy as np\n",
    "from sklearn.preprocessing import LabelBinarizer"
   ]
  },
  {
   "cell_type": "code",
   "execution_count": 6,
   "metadata": {},
   "outputs": [],
   "source": [
    "# Set the directory paths for the benign and malignant images\n",
    "benign_dir = 'Dataset/Benign Masses'\n",
    "malignant_dir = 'Dataset/Malignant Masses'\n",
    "\n",
    "# Target size for resizing\n",
    "target_size = (244, 244)\n",
    "\n",
    "# Lists to store the images and labels\n",
    "images = []\n",
    "labels = []\n",
    "\n",
    "# Function to resize and process the images\n",
    "def process_image(image_path, label):\n",
    "    image = cv2.imread(image_path)\n",
    "    image = cv2.cvtColor(image,cv2.COLOR_BGR2RGB)\n",
    "    resized_image = cv2.resize(image, target_size)\n",
    "    images.append(resized_image)\n",
    "    labels.append(label)\n",
    "\n",
    "# Processing the benign images\n",
    "for filename in os.listdir(benign_dir):\n",
    "    image_path = os.path.join(benign_dir, filename)\n",
    "    process_image(image_path, label='benign')\n",
    "\n",
    "# Processing the malignant images\n",
    "for filename in os.listdir(malignant_dir):\n",
    "    image_path = os.path.join(malignant_dir, filename)\n",
    "    process_image(image_path, label='malignant')"
   ]
  },
  {
   "cell_type": "code",
   "execution_count": 8,
   "metadata": {},
   "outputs": [],
   "source": [
    "#Converting lists to numpy arrays\n",
    "images = np.array(images)/255.0\n",
    "labels = np.array(labels)"
   ]
  },
  {
   "cell_type": "code",
   "execution_count": null,
   "metadata": {},
   "outputs": [],
   "source": [
    "#Encoding labels\n",
    "labels = LabelBinarizer.fit_transform(labels)"
   ]
  }
 ],
 "metadata": {
  "kernelspec": {
   "display_name": "base",
   "language": "python",
   "name": "python3"
  },
  "language_info": {
   "codemirror_mode": {
    "name": "ipython",
    "version": 3
   },
   "file_extension": ".py",
   "mimetype": "text/x-python",
   "name": "python",
   "nbconvert_exporter": "python",
   "pygments_lexer": "ipython3",
   "version": "3.10.5"
  },
  "orig_nbformat": 4
 },
 "nbformat": 4,
 "nbformat_minor": 2
}
