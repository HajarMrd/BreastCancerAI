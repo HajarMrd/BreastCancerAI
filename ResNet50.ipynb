{
 "cells": [
  {
   "cell_type": "code",
   "execution_count": 5,
   "metadata": {},
   "outputs": [],
   "source": [
    "import cv2\n",
    "import os\n",
    "import numpy as np\n",
    "import tensorflow.keras as keras\n",
    "import matplotlib.pyplot as plt\n",
    "from sklearn.preprocessing import LabelBinarizer\n",
    "from tensorflow.keras.utils import to_categorical\n",
    "from keras.applications import ResNet50\n",
    "from keras.callbacks import Callback, ModelCheckpoint, ReduceLROnPlateau, TensorBoard\n",
    "from keras import layers\n",
    "from sklearn.model_selection import train_test_split\n",
    "from tensorflow.keras.preprocessing.image import ImageDataGenerator\n",
    "from tensorflow.keras.layers import Dense\n",
    "from tensorflow.keras.layers import Dropout\n",
    "from tensorflow.keras.layers import AveragePooling2D\n",
    "from tensorflow.keras.layers import GlobalAveragePooling2D\n",
    "from tensorflow.keras.layers import Input\n",
    "from tensorflow.keras.layers import Activation\n",
    "from tensorflow.keras.layers import Add\n",
    "from tensorflow.keras.models import Model\n",
    "from tensorflow.keras.optimizers import Adam\n",
    "from sklearn.metrics import classification_report\n",
    "from sklearn.preprocessing import LabelEncoder\n",
    "from keras.models import Sequential\n",
    "from sklearn.metrics import confusion_matrix , accuracy_score"
   ]
  },
  {
   "cell_type": "code",
   "execution_count": 6,
   "metadata": {},
   "outputs": [],
   "source": [
    "#Model Parameters\n",
    "batch_size = 8\n",
    "learning_rate = 0.0001\n",
    "EPOCHS =50"
   ]
  },
  {
   "cell_type": "code",
   "execution_count": 7,
   "metadata": {},
   "outputs": [],
   "source": [
    "# Set the directory paths for the benign and malignant images\n",
    "benign_dir = 'Dataset/Benign Masses'\n",
    "malignant_dir = 'Dataset/Malignant Masses'\n",
    "\n",
    "# Target size for resizing\n",
    "target_size = (224, 224)\n",
    "\n",
    "# Lists to store the images and labels\n",
    "images = []\n",
    "labels = []\n",
    "\n",
    "# Function to resize and process the images\n",
    "def process_image(image_path, label):\n",
    "    image = cv2.imread(image_path)\n",
    "    image = cv2.cvtColor(image,cv2.COLOR_BGR2RGB)\n",
    "    resized_image = cv2.resize(image, target_size)\n",
    "    images.append(resized_image)\n",
    "    labels.append(label)\n",
    "\n",
    "# Processing the benign images\n",
    "for filename in os.listdir(benign_dir):\n",
    "    image_path = os.path.join(benign_dir, filename)\n",
    "    process_image(image_path, label='benign')\n",
    "\n",
    "# Processing the malignant images\n",
    "for filename in os.listdir(malignant_dir):\n",
    "    image_path = os.path.join(malignant_dir, filename)\n",
    "    process_image(image_path, label='malignant')"
   ]
  },
  {
   "cell_type": "code",
   "execution_count": 8,
   "metadata": {},
   "outputs": [],
   "source": [
    "#Converting lists to numpy arrays\n",
    "images = np.array(images)/255.0\n",
    "labels = np.array(labels)"
   ]
  },
  {
   "cell_type": "code",
   "execution_count": 9,
   "metadata": {},
   "outputs": [],
   "source": [
    "#Encoding labels\n",
    "lb = LabelBinarizer()\n",
    "labels = lb.fit_transform(labels)\n",
    "#One-hot-encoding our labels\n",
    "labels = to_categorical(labels)"
   ]
  },
  {
   "cell_type": "code",
   "execution_count": 10,
   "metadata": {},
   "outputs": [],
   "source": [
    "# Assuming X contains your feature data and y contains your target labels\n",
    "trainX, testX, trainY, testY = train_test_split(images, labels, test_size=0.2, random_state=42)"
   ]
  },
  {
   "cell_type": "code",
   "execution_count": 11,
   "metadata": {},
   "outputs": [],
   "source": [
    "#Data augmentation\n",
    "trainAug = ImageDataGenerator(rotation_range=15, fill_mode = \"nearest\")"
   ]
  },
  {
   "cell_type": "code",
   "execution_count": 12,
   "metadata": {},
   "outputs": [],
   "source": [
    "def build_model(backbone, learning_rate=1e-4):\n",
    "    model = Sequential()\n",
    "    model.add(backbone)\n",
    "    model.add(layers.GlobalAveragePooling2D())\n",
    "    model.add(layers.Dropout(0.5))\n",
    "    model.add(layers.BatchNormalization())\n",
    "    model.add(layers.Dense(2, activation='softmax'))\n",
    "    \n",
    "    \n",
    "    model.compile(\n",
    "        loss='binary_crossentropy',\n",
    "        optimizer=Adam(learning_rate=learning_rate),\n",
    "        metrics=['accuracy']\n",
    "    )\n",
    "    \n",
    "    return model"
   ]
  },
  {
   "cell_type": "code",
   "execution_count": 13,
   "metadata": {},
   "outputs": [
    {
     "name": "stdout",
     "output_type": "stream",
     "text": [
      "Model: \"sequential\"\n",
      "_________________________________________________________________\n",
      " Layer (type)                Output Shape              Param #   \n",
      "=================================================================\n",
      " resnet50 (Functional)       (None, 7, 7, 2048)        23587712  \n",
      "                                                                 \n",
      " global_average_pooling2d (G  (None, 2048)             0         \n",
      " lobalAveragePooling2D)                                          \n",
      "                                                                 \n",
      " dropout (Dropout)           (None, 2048)              0         \n",
      "                                                                 \n",
      " batch_normalization (BatchN  (None, 2048)             8192      \n",
      " ormalization)                                                   \n",
      "                                                                 \n",
      " dense (Dense)               (None, 2)                 4098      \n",
      "                                                                 \n",
      "=================================================================\n",
      "Total params: 23,600,002\n",
      "Trainable params: 23,542,786\n",
      "Non-trainable params: 57,216\n",
      "_________________________________________________________________\n"
     ]
    }
   ],
   "source": [
    "resnet = ResNet50(\n",
    "    weights='imagenet',\n",
    "    include_top=False,\n",
    "    input_shape=(224,224,3)\n",
    ")\n",
    "\n",
    "\n",
    "model = build_model(resnet ,learning_rate = 1e-4)\n",
    "model.summary()"
   ]
  },
  {
   "cell_type": "code",
   "execution_count": 14,
   "metadata": {},
   "outputs": [
    {
     "name": "stdout",
     "output_type": "stream",
     "text": [
      "Epoch 1/50\n",
      "29/29 [==============================] - 53s 1s/step - loss: 0.7947 - accuracy: 0.6121\n",
      "Epoch 2/50\n",
      "29/29 [==============================] - 40s 1s/step - loss: 0.6002 - accuracy: 0.7241\n",
      "Epoch 3/50\n",
      "29/29 [==============================] - 40s 1s/step - loss: 0.4072 - accuracy: 0.8276\n",
      "Epoch 4/50\n",
      "29/29 [==============================] - 40s 1s/step - loss: 0.2977 - accuracy: 0.9052\n",
      "Epoch 5/50\n",
      "29/29 [==============================] - 40s 1s/step - loss: 0.2634 - accuracy: 0.9138\n",
      "Epoch 6/50\n",
      "29/29 [==============================] - 41s 1s/step - loss: 0.2183 - accuracy: 0.9310\n",
      "Epoch 7/50\n",
      "29/29 [==============================] - 41s 1s/step - loss: 0.4407 - accuracy: 0.8750\n",
      "Epoch 8/50\n",
      "29/29 [==============================] - 40s 1s/step - loss: 0.1969 - accuracy: 0.9267\n",
      "Epoch 9/50\n",
      "29/29 [==============================] - 41s 1s/step - loss: 0.1799 - accuracy: 0.9526\n",
      "Epoch 10/50\n",
      "29/29 [==============================] - 43s 1s/step - loss: 0.1739 - accuracy: 0.9440\n",
      "Epoch 11/50\n",
      "29/29 [==============================] - 42s 1s/step - loss: 0.1724 - accuracy: 0.9440\n",
      "Epoch 12/50\n",
      "29/29 [==============================] - 40s 1s/step - loss: 0.1950 - accuracy: 0.9440\n",
      "Epoch 13/50\n",
      "29/29 [==============================] - 40s 1s/step - loss: 0.1413 - accuracy: 0.9440\n",
      "Epoch 14/50\n",
      "29/29 [==============================] - 40s 1s/step - loss: 0.1981 - accuracy: 0.9224\n",
      "Epoch 15/50\n",
      "29/29 [==============================] - 40s 1s/step - loss: 0.1872 - accuracy: 0.9310\n",
      "Epoch 16/50\n",
      "29/29 [==============================] - 40s 1s/step - loss: 0.1388 - accuracy: 0.9526\n",
      "Epoch 17/50\n",
      "29/29 [==============================] - 39s 1s/step - loss: 0.1007 - accuracy: 0.9784\n",
      "Epoch 18/50\n",
      "29/29 [==============================] - 39s 1s/step - loss: 0.2319 - accuracy: 0.9267\n",
      "Epoch 19/50\n",
      "29/29 [==============================] - 39s 1s/step - loss: 0.1305 - accuracy: 0.9698\n",
      "Epoch 20/50\n",
      "29/29 [==============================] - 39s 1s/step - loss: 0.1456 - accuracy: 0.9483\n",
      "Epoch 21/50\n",
      "29/29 [==============================] - 38s 1s/step - loss: 0.0727 - accuracy: 0.9698\n",
      "Epoch 22/50\n",
      "29/29 [==============================] - 39s 1s/step - loss: 0.1283 - accuracy: 0.9397\n",
      "Epoch 23/50\n",
      "29/29 [==============================] - 40s 1s/step - loss: 0.1160 - accuracy: 0.9612\n",
      "Epoch 24/50\n",
      "29/29 [==============================] - 39s 1s/step - loss: 0.0442 - accuracy: 0.9871\n",
      "Epoch 25/50\n",
      "29/29 [==============================] - 40s 1s/step - loss: 0.0807 - accuracy: 0.9741\n",
      "Epoch 26/50\n",
      "29/29 [==============================] - 40s 1s/step - loss: 0.0363 - accuracy: 0.9871\n",
      "Epoch 27/50\n",
      "29/29 [==============================] - 39s 1s/step - loss: 0.0833 - accuracy: 0.9871\n",
      "Epoch 28/50\n",
      "29/29 [==============================] - 39s 1s/step - loss: 0.0654 - accuracy: 0.9784\n",
      "Epoch 29/50\n",
      "29/29 [==============================] - 43s 1s/step - loss: 0.0224 - accuracy: 0.9957\n",
      "Epoch 30/50\n",
      "29/29 [==============================] - 39s 1s/step - loss: 0.1005 - accuracy: 0.9741\n",
      "Epoch 31/50\n",
      "29/29 [==============================] - 39s 1s/step - loss: 0.0755 - accuracy: 0.9698\n",
      "Epoch 32/50\n",
      "29/29 [==============================] - 38s 1s/step - loss: 0.1012 - accuracy: 0.9655\n",
      "Epoch 33/50\n",
      "29/29 [==============================] - 39s 1s/step - loss: 0.0928 - accuracy: 0.9741\n",
      "Epoch 34/50\n",
      "29/29 [==============================] - 39s 1s/step - loss: 0.1279 - accuracy: 0.9569\n",
      "Epoch 35/50\n",
      "29/29 [==============================] - 40s 1s/step - loss: 0.2129 - accuracy: 0.9310\n",
      "Epoch 36/50\n",
      "29/29 [==============================] - 39s 1s/step - loss: 0.1115 - accuracy: 0.9569\n",
      "Epoch 37/50\n",
      "29/29 [==============================] - 39s 1s/step - loss: 0.0758 - accuracy: 0.9741\n",
      "Epoch 38/50\n",
      "29/29 [==============================] - 39s 1s/step - loss: 0.0685 - accuracy: 0.9828\n",
      "Epoch 39/50\n",
      "29/29 [==============================] - 39s 1s/step - loss: 0.0738 - accuracy: 0.9784\n",
      "Epoch 40/50\n",
      "29/29 [==============================] - 38s 1s/step - loss: 0.0313 - accuracy: 0.9914\n",
      "Epoch 41/50\n",
      "29/29 [==============================] - 39s 1s/step - loss: 0.0847 - accuracy: 0.9612\n",
      "Epoch 42/50\n",
      "29/29 [==============================] - 39s 1s/step - loss: 0.1470 - accuracy: 0.9612\n",
      "Epoch 43/50\n",
      "29/29 [==============================] - 38s 1s/step - loss: 0.2509 - accuracy: 0.9095\n",
      "Epoch 44/50\n",
      "29/29 [==============================] - 39s 1s/step - loss: 0.0644 - accuracy: 0.9871\n",
      "Epoch 45/50\n",
      "29/29 [==============================] - 43s 1s/step - loss: 0.0882 - accuracy: 0.9784\n",
      "Epoch 46/50\n",
      "29/29 [==============================] - 41s 1s/step - loss: 0.0959 - accuracy: 0.9828\n",
      "Epoch 47/50\n",
      "29/29 [==============================] - 38s 1s/step - loss: 0.0481 - accuracy: 0.9828\n",
      "Epoch 48/50\n",
      "29/29 [==============================] - 40s 1s/step - loss: 0.0465 - accuracy: 0.9784\n",
      "Epoch 49/50\n",
      "29/29 [==============================] - 40s 1s/step - loss: 0.0412 - accuracy: 0.9914\n",
      "Epoch 50/50\n",
      "29/29 [==============================] - 39s 1s/step - loss: 0.0176 - accuracy: 0.9957\n",
      "2/2 [==============================] - 3s 795ms/step - loss: 1.2060 - accuracy: 0.8103\n",
      "Test Loss: 1.2060\n",
      "Test Accuracy: 0.8103\n"
     ]
    }
   ],
   "source": [
    "# Compile the model\n",
    "opt = Adam  (learning_rate=0.0001)\n",
    "model.compile(optimizer=opt, loss='binary_crossentropy', metrics=['accuracy'])\n",
    "\n",
    "H = model.fit(\n",
    "    trainAug.flow(trainX, trainY, batch_size=batch_size),\n",
    "    steps_per_epoch=trainX.shape[0] / batch_size,\n",
    "    epochs=EPOCHS,\n",
    "    )\n",
    "\n",
    "\n",
    "# Evaluate the model\n",
    "loss, accuracy = model.evaluate(testX, testY)\n",
    "print(f\"Test Loss: {loss:.4f}\")\n",
    "print(f\"Test Accuracy: {accuracy:.4f}\")"
   ]
  },
  {
   "cell_type": "code",
   "execution_count": 16,
   "metadata": {},
   "outputs": [
    {
     "data": {
      "image/png": "[encoded data removed]",
      "text/plain": [
       "<Figure size 640x480 with 1 Axes>"
      ]
     },
     "metadata": {},
     "output_type": "display_data"
    },
    {
     "data": {
      "image/png": "[encoded data removed]",
      "text/plain": [
       "<Figure size 640x480 with 1 Axes>"
      ]
     },
     "metadata": {},
     "output_type": "display_data"
    }
   ],
   "source": [
    "#Summarizing history for accuracy\n",
    "plt.plot(H.history['accuracy'])\n",
    "plt.title('Model Accuracy')\n",
    "plt.ylabel('Accuracy')\n",
    "plt.xlabel('Epoch')\n",
    "plt.legend(['train','test'], loc='upper left')\n",
    "plt.show()\n",
    "\n",
    "#Summarizing history for loss\n",
    "plt.plot(H.history['loss'])\n",
    "plt.title('Model Loss')\n",
    "plt.ylabel('Loss')\n",
    "plt.xlabel('Epoch')\n",
    "plt.legend(['train','test'], loc='upper left')\n",
    "plt.show()"
   ]
  },
  {
   "cell_type": "code",
   "execution_count": 17,
   "metadata": {},
   "outputs": [
    {
     "name": "stdout",
     "output_type": "stream",
     "text": [
      "[INFO] network evaluation...\n",
      "8/8 [==============================] - 3s 267ms/step\n"
     ]
    }
   ],
   "source": [
    "#make predictions on the testing set\n",
    "print(\"[INFO] network evaluation...\")\n",
    "predIdxs= model.predict(testX,batch_size=batch_size)"
   ]
  },
  {
   "cell_type": "code",
   "execution_count": 18,
   "metadata": {},
   "outputs": [
    {
     "name": "stdout",
     "output_type": "stream",
     "text": [
      "2/2 [==============================] - 2s 872ms/step\n",
      "              precision    recall  f1-score   support\n",
      "\n",
      "           B     1.0000    0.6071    0.7556        28\n",
      "           M     0.7317    1.0000    0.8451        30\n",
      "\n",
      "   micro avg     0.8103    0.8103    0.8103        58\n",
      "   macro avg     0.8659    0.8036    0.8003        58\n",
      "weighted avg     0.8612    0.8103    0.8019        58\n",
      " samples avg     0.8103    0.8103    0.8103        58\n",
      "\n"
     ]
    }
   ],
   "source": [
    "#classification report\n",
    "y_pred = model.predict(testX)>0.5\n",
    "print(classification_report(testY,y_pred,digits=4,target_names=['B','M']))"
   ]
  },
  {
   "cell_type": "code",
   "execution_count": 19,
   "metadata": {},
   "outputs": [
    {
     "name": "stdout",
     "output_type": "stream",
     "text": [
      "Confusion Matrix:\n",
      "[[17 11]\n",
      " [ 0 30]]\n",
      "Accuracy: 81.03%\n"
     ]
    }
   ],
   "source": [
    "# Convert multi-class labels to discrete binary format\n",
    "testY_discrete = np.argmax(testY, axis=1)\n",
    "predIdxs_discrete = np.argmax(predIdxs, axis=1)\n",
    "\n",
    "# Calculation of the confusion matrix\n",
    "cm = confusion_matrix(testY_discrete, predIdxs_discrete)\n",
    "\n",
    "# Calculation of accuracy\n",
    "accuracy = accuracy_score(testY_discrete, predIdxs_discrete) * 100\n",
    "\n",
    "# Display the confusion matrix and accuracy\n",
    "print(\"Confusion Matrix:\")\n",
    "print(cm)\n",
    "print(\"Accuracy: {:.2f}%\".format(accuracy))"
   ]
  }
 ],
 "metadata": {
  "kernelspec": {
   "display_name": "Python 3",
   "language": "python",
   "name": "python3"
  },
  "language_info": {
   "codemirror_mode": {
    "name": "ipython",
    "version": 3
   },
   "file_extension": ".py",
   "mimetype": "text/x-python",
   "name": "python",
   "nbconvert_exporter": "python",
   "pygments_lexer": "ipython3",
   "version": "3.11.4"
  },
  "orig_nbformat": 4
 },
 "nbformat": 4,
 "nbformat_minor": 2
}
